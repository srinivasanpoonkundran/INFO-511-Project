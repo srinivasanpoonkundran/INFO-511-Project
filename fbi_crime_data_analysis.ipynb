{
 "cells": [
  {
   "cell_type": "markdown",
   "metadata": {},
   "source": [
    "# Data Visualization of FBI Crime Data Agencies \n",
    "\n",
    "Author: Srinivasan Poonkundran"
   ]
  },
  {
   "cell_type": "markdown",
   "metadata": {},
   "source": [
    "### Research Question:\n",
    "How do agency types vary across different states in the USA, and what percentage of agencies in each\n",
    "state participate in NIBRS reporting? Are there observable trends in NIBRS adoption over time?"
   ]
  },
  {
   "cell_type": "markdown",
   "metadata": {},
   "source": [
    "### About dataset:\n",
    "\n",
    "We’re looking at agency-level data across all 50 states in the USA. This dataset provides details on law enforcement agencies that have submitted data to the FBI’s Uniform Crime Reporting (UCR) Program and are displayed on the Crime Data Explorer (CDE).\n",
    "\n",
    "The data we have is an agency level data across all the 50 states in United States. This data sets provides the details on law enforcement agencies that have submitted data to the FBI’s Uniform Crime Reporting Program and are displayed on the Crime Data Explorer. \n",
    "\n",
    "This dataset is a publicly available and sourced from TidyTuesday. It contains\n",
    "information about agencies that have submitted data to the FBI’s Uniform Crime Reporting (UCR)\n",
    "Program. Key variables include agency name, type, location (latitude/longitude, state, county), and\n",
    "whether the agency participates in the National Incident-Based Reporting System (NIBRS), along\n",
    "with the start date of NIBRS participation. \n",
    "\n",
    "Link to the dataset: https://github.com/rfordatascience/tidytuesday/tree/main/data/2025/2025-02-18"
   ]
  },
  {
   "cell_type": "markdown",
   "metadata": {},
   "source": [
    "### Data Dictionary"
   ]
  },
  {
   "cell_type": "markdown",
   "metadata": {},
   "source": [
    "#### agencies.csv\n",
    "\n",
    "| Variable         | Type       | Description                                                                 |\n",
    "|------------------|-----------|-----------------------------------------------------------------------------|\n",
    "| ori              | character | Unique ID used to identify an agency.                                       |\n",
    "| county           | character | The county associated with the agency’s jurisdiction within a state.        |\n",
    "| latitude         | double    | The approximate latitude of the agency.                                     |\n",
    "| longitude        | double    | The approximate longitude of the agency.                                    |\n",
    "| state_abbr       | character | The abbreviated two-letter state code for the agency's location.            |\n",
    "| state            | character | The full name of the state where the agency is located.                     |\n",
    "| agency_name      | character | The official name of the agency.                                            |\n",
    "| agency_type      | character | The type or category of the agency, such as city or county.                 |\n",
    "| is_nibrs         | logical   | Indicates whether the agency participates in the FBI’s NIBRS program.       |\n",
    "| nibrs_start_date | character | The date on which the agency began reporting data to NIBRS.                 |\n"
   ]
  },
  {
   "cell_type": "code",
   "execution_count": null,
   "metadata": {},
   "outputs": [],
   "source": [
    "import pandas as pd\n",
    "import matplotlib.pyplot as plt"
   ]
  },
  {
   "cell_type": "code",
   "execution_count": null,
   "metadata": {},
   "outputs": [],
   "source": [
    "def count_null_vals(data):\n",
    "    length = len(data)\n",
    "    null_counts = data.isnull().sum()\n",
    "    c = null_counts[null_counts > 0]\n",
    "    xt = True\n",
    "    for column, null_count in c.items():\n",
    "        xt = False\n",
    "        percent = (null_count/length) * 100\n",
    "        print(f\"'{column}' : {null_count} | {percent:.2f}%\")\n",
    "    if(xt):\n",
    "        print(\"No Null values\")"
   ]
  }
 ],
 "metadata": {
  "kernelspec": {
   "display_name": "base",
   "language": "python",
   "name": "python3"
  },
  "language_info": {
   "name": "python",
   "version": "3.12.3"
  }
 },
 "nbformat": 4,
 "nbformat_minor": 2
}
