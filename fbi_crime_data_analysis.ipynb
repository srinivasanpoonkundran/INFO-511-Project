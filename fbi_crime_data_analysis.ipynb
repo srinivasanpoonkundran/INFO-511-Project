{
 "cells": [
  {
   "cell_type": "markdown",
   "metadata": {},
   "source": [
    "# Data Visualization of FBI Crime Data Agencies \n",
    "\n",
    "Author: Srinivasan Poonkundran"
   ]
  },
  {
   "cell_type": "markdown",
   "metadata": {},
   "source": [
    "### Research Question:\n",
    "How do agency types vary across different states in the USA, and what percentage of agencies in each\n",
    "state participate in NIBRS reporting? Are there observable trends in NIBRS adoption over time?"
   ]
  },
  {
   "cell_type": "markdown",
   "metadata": {},
   "source": [
    "### About dataset:\n",
    "\n",
    "We’re looking at agency-level data across all 50 states in the USA. This dataset provides details on law enforcement agencies that have submitted data to the FBI’s Uniform Crime Reporting (UCR) Program and are displayed on the Crime Data Explorer (CDE).\n",
    "\n",
    "The data we have is an agency level data across all the 50 states in United States. This data sets provides the details on law enforcement agencies that have submitted data to the FBI’s Uniform Crime Reporting Program and are displayed on the Crime Data Explorer. \n",
    "\n",
    "This dataset is a publicly available and sourced from TidyTuesday. It contains\n",
    "information about agencies that have submitted data to the FBI’s Uniform Crime Reporting (UCR)\n",
    "Program. Key variables include agency name, type, location (latitude/longitude, state, county), and\n",
    "whether the agency participates in the National Incident-Based Reporting System (NIBRS), along\n",
    "with the start date of NIBRS participation. \n",
    "\n",
    "Link to the dataset: https://github.com/rfordatascience/tidytuesday/tree/main/data/2025/2025-02-18"
   ]
  },
  {
   "cell_type": "markdown",
   "metadata": {},
   "source": [
    "### Data Dictionary"
   ]
  },
  {
   "cell_type": "markdown",
   "metadata": {},
   "source": [
    "#### agencies.csv\n",
    "\n",
    "| Variable         | Type       | Description                                                                 |\n",
    "|------------------|-----------|-----------------------------------------------------------------------------|\n",
    "| ori              | character | Unique ID used to identify an agency.                                       |\n",
    "| county           | character | The county associated with the agency’s jurisdiction within a state.        |\n",
    "| latitude         | double    | The approximate latitude of the agency.                                     |\n",
    "| longitude        | double    | The approximate longitude of the agency.                                    |\n",
    "| state_abbr       | character | The abbreviated two-letter state code for the agency's location.            |\n",
    "| state            | character | The full name of the state where the agency is located.                     |\n",
    "| agency_name      | character | The official name of the agency.                                            |\n",
    "| agency_type      | character | The type or category of the agency, such as city or county.                 |\n",
    "| is_nibrs         | logical   | Indicates whether the agency participates in the FBI’s NIBRS program.       |\n",
    "| nibrs_start_date | character | The date on which the agency began reporting data to NIBRS.                 |\n"
   ]
  },
  {
   "cell_type": "code",
   "execution_count": 2,
   "metadata": {},
   "outputs": [],
   "source": [
    "import pandas as pd\n",
    "import matplotlib.pyplot as plt"
   ]
  },
  {
   "cell_type": "code",
   "execution_count": 3,
   "metadata": {},
   "outputs": [],
   "source": [
    "def count_null_vals(data):\n",
    "    length = len(data)\n",
    "    null_counts = data.isnull().sum()\n",
    "    c = null_counts[null_counts > 0]\n",
    "    xt = True\n",
    "    for column, null_count in c.items():\n",
    "        xt = False\n",
    "        percent = (null_count/length) * 100\n",
    "        print(f\"'{column}' : {null_count} | {percent:.2f}%\")\n",
    "    if(xt):\n",
    "        print(\"No Null values\")"
   ]
  },
  {
   "cell_type": "code",
   "execution_count": 5,
   "metadata": {},
   "outputs": [
    {
     "data": {
      "text/html": [
       "<div>\n",
       "<style scoped>\n",
       "    .dataframe tbody tr th:only-of-type {\n",
       "        vertical-align: middle;\n",
       "    }\n",
       "\n",
       "    .dataframe tbody tr th {\n",
       "        vertical-align: top;\n",
       "    }\n",
       "\n",
       "    .dataframe thead th {\n",
       "        text-align: right;\n",
       "    }\n",
       "</style>\n",
       "<table border=\"1\" class=\"dataframe\">\n",
       "  <thead>\n",
       "    <tr style=\"text-align: right;\">\n",
       "      <th></th>\n",
       "      <th>ori</th>\n",
       "      <th>county</th>\n",
       "      <th>latitude</th>\n",
       "      <th>longitude</th>\n",
       "      <th>state_abbr</th>\n",
       "      <th>state</th>\n",
       "      <th>agency_name</th>\n",
       "      <th>agency_type</th>\n",
       "      <th>is_nibrs</th>\n",
       "      <th>nibrs_start_date</th>\n",
       "    </tr>\n",
       "  </thead>\n",
       "  <tbody>\n",
       "    <tr>\n",
       "      <th>0</th>\n",
       "      <td>AL0430200</td>\n",
       "      <td>LEE</td>\n",
       "      <td>32.604064</td>\n",
       "      <td>-85.353048</td>\n",
       "      <td>AL</td>\n",
       "      <td>Alabama</td>\n",
       "      <td>Opelika Police Department</td>\n",
       "      <td>City</td>\n",
       "      <td>True</td>\n",
       "      <td>2021-01-01</td>\n",
       "    </tr>\n",
       "    <tr>\n",
       "      <th>1</th>\n",
       "      <td>AL0430100</td>\n",
       "      <td>LEE</td>\n",
       "      <td>32.608086</td>\n",
       "      <td>-85.475136</td>\n",
       "      <td>AL</td>\n",
       "      <td>Alabama</td>\n",
       "      <td>Auburn Police Department</td>\n",
       "      <td>City</td>\n",
       "      <td>True</td>\n",
       "      <td>2020-12-01</td>\n",
       "    </tr>\n",
       "    <tr>\n",
       "      <th>2</th>\n",
       "      <td>AL0430000</td>\n",
       "      <td>LEE</td>\n",
       "      <td>32.604064</td>\n",
       "      <td>-85.353048</td>\n",
       "      <td>AL</td>\n",
       "      <td>Alabama</td>\n",
       "      <td>Lee County Sheriff's Office</td>\n",
       "      <td>County</td>\n",
       "      <td>True</td>\n",
       "      <td>2012-04-01</td>\n",
       "    </tr>\n",
       "    <tr>\n",
       "      <th>3</th>\n",
       "      <td>AL0070100</td>\n",
       "      <td>BIBB</td>\n",
       "      <td>33.015893</td>\n",
       "      <td>-87.127148</td>\n",
       "      <td>AL</td>\n",
       "      <td>Alabama</td>\n",
       "      <td>Centreville Police Department</td>\n",
       "      <td>City</td>\n",
       "      <td>True</td>\n",
       "      <td>2020-01-01</td>\n",
       "    </tr>\n",
       "    <tr>\n",
       "      <th>4</th>\n",
       "      <td>AL0070000</td>\n",
       "      <td>BIBB</td>\n",
       "      <td>32.939995</td>\n",
       "      <td>-87.116830</td>\n",
       "      <td>AL</td>\n",
       "      <td>Alabama</td>\n",
       "      <td>Bibb County Sheriff's Office</td>\n",
       "      <td>County</td>\n",
       "      <td>True</td>\n",
       "      <td>2021-01-01</td>\n",
       "    </tr>\n",
       "  </tbody>\n",
       "</table>\n",
       "</div>"
      ],
      "text/plain": [
       "         ori county   latitude  longitude state_abbr    state  \\\n",
       "0  AL0430200    LEE  32.604064 -85.353048         AL  Alabama   \n",
       "1  AL0430100    LEE  32.608086 -85.475136         AL  Alabama   \n",
       "2  AL0430000    LEE  32.604064 -85.353048         AL  Alabama   \n",
       "3  AL0070100   BIBB  33.015893 -87.127148         AL  Alabama   \n",
       "4  AL0070000   BIBB  32.939995 -87.116830         AL  Alabama   \n",
       "\n",
       "                     agency_name agency_type  is_nibrs nibrs_start_date  \n",
       "0      Opelika Police Department        City      True       2021-01-01  \n",
       "1       Auburn Police Department        City      True       2020-12-01  \n",
       "2    Lee County Sheriff's Office      County      True       2012-04-01  \n",
       "3  Centreville Police Department        City      True       2020-01-01  \n",
       "4   Bibb County Sheriff's Office      County      True       2021-01-01  "
      ]
     },
     "execution_count": 5,
     "metadata": {},
     "output_type": "execute_result"
    }
   ],
   "source": [
    "agencies = pd.read_csv('data/agencies.csv')\n",
    "agencies.head()"
   ]
  },
  {
   "cell_type": "code",
   "execution_count": 6,
   "metadata": {},
   "outputs": [
    {
     "name": "stdout",
     "output_type": "stream",
     "text": [
      "<class 'pandas.core.frame.DataFrame'>\n",
      "RangeIndex: 19166 entries, 0 to 19165\n",
      "Data columns (total 10 columns):\n",
      " #   Column            Non-Null Count  Dtype  \n",
      "---  ------            --------------  -----  \n",
      " 0   ori               19166 non-null  object \n",
      " 1   county            19166 non-null  object \n",
      " 2   latitude          17219 non-null  float64\n",
      " 3   longitude         17219 non-null  float64\n",
      " 4   state_abbr        19166 non-null  object \n",
      " 5   state             19166 non-null  object \n",
      " 6   agency_name       19166 non-null  object \n",
      " 7   agency_type       17491 non-null  object \n",
      " 8   is_nibrs          19166 non-null  bool   \n",
      " 9   nibrs_start_date  15105 non-null  object \n",
      "dtypes: bool(1), float64(2), object(7)\n",
      "memory usage: 1.3+ MB\n"
     ]
    }
   ],
   "source": [
    "agencies.info()"
   ]
  },
  {
   "cell_type": "code",
   "execution_count": 7,
   "metadata": {},
   "outputs": [
    {
     "data": {
      "text/html": [
       "<div>\n",
       "<style scoped>\n",
       "    .dataframe tbody tr th:only-of-type {\n",
       "        vertical-align: middle;\n",
       "    }\n",
       "\n",
       "    .dataframe tbody tr th {\n",
       "        vertical-align: top;\n",
       "    }\n",
       "\n",
       "    .dataframe thead th {\n",
       "        text-align: right;\n",
       "    }\n",
       "</style>\n",
       "<table border=\"1\" class=\"dataframe\">\n",
       "  <thead>\n",
       "    <tr style=\"text-align: right;\">\n",
       "      <th></th>\n",
       "      <th>latitude</th>\n",
       "      <th>longitude</th>\n",
       "    </tr>\n",
       "  </thead>\n",
       "  <tbody>\n",
       "    <tr>\n",
       "      <th>count</th>\n",
       "      <td>17219.000000</td>\n",
       "      <td>17219.000000</td>\n",
       "    </tr>\n",
       "    <tr>\n",
       "      <th>mean</th>\n",
       "      <td>38.431584</td>\n",
       "      <td>-88.965840</td>\n",
       "    </tr>\n",
       "    <tr>\n",
       "      <th>std</th>\n",
       "      <td>4.785443</td>\n",
       "      <td>13.303851</td>\n",
       "    </tr>\n",
       "    <tr>\n",
       "      <th>min</th>\n",
       "      <td>-9.000000</td>\n",
       "      <td>-164.188912</td>\n",
       "    </tr>\n",
       "    <tr>\n",
       "      <th>25%</th>\n",
       "      <td>34.933239</td>\n",
       "      <td>-95.268743</td>\n",
       "    </tr>\n",
       "    <tr>\n",
       "      <th>50%</th>\n",
       "      <td>39.214480</td>\n",
       "      <td>-86.135794</td>\n",
       "    </tr>\n",
       "    <tr>\n",
       "      <th>75%</th>\n",
       "      <td>41.717780</td>\n",
       "      <td>-80.198065</td>\n",
       "    </tr>\n",
       "    <tr>\n",
       "      <th>max</th>\n",
       "      <td>69.449343</td>\n",
       "      <td>178.338813</td>\n",
       "    </tr>\n",
       "  </tbody>\n",
       "</table>\n",
       "</div>"
      ],
      "text/plain": [
       "           latitude     longitude\n",
       "count  17219.000000  17219.000000\n",
       "mean      38.431584    -88.965840\n",
       "std        4.785443     13.303851\n",
       "min       -9.000000   -164.188912\n",
       "25%       34.933239    -95.268743\n",
       "50%       39.214480    -86.135794\n",
       "75%       41.717780    -80.198065\n",
       "max       69.449343    178.338813"
      ]
     },
     "execution_count": 7,
     "metadata": {},
     "output_type": "execute_result"
    }
   ],
   "source": [
    "agencies.describe()"
   ]
  },
  {
   "cell_type": "markdown",
   "metadata": {},
   "source": [
    "Les us now see if there are any null values in the data."
   ]
  },
  {
   "cell_type": "code",
   "execution_count": 8,
   "metadata": {},
   "outputs": [
    {
     "name": "stdout",
     "output_type": "stream",
     "text": [
      "'latitude' : 1947 | 10.16%\n",
      "'longitude' : 1947 | 10.16%\n",
      "'agency_type' : 1675 | 8.74%\n",
      "'nibrs_start_date' : 4061 | 21.19%\n"
     ]
    }
   ],
   "source": [
    "count_null_vals(agencies)"
   ]
  },
  {
   "cell_type": "markdown",
   "metadata": {},
   "source": [
    "The above shows information on the missing values in the dataset. There are 1947 latitude and longitude data missing from the dataset, which is 10.16% of the data. Column 'agency_type' has 1675 missing values which is 8.74% of the total data. 21.19% of the data in 'nibrs_start_date' column is missing. These missing values will be handled in further section."
   ]
  },
  {
   "cell_type": "code",
   "execution_count": 9,
   "metadata": {},
   "outputs": [
    {
     "data": {
      "text/plain": [
       "array(['City', 'County', 'University or College', nan, 'Other',\n",
       "       'Other State Agency', 'Tribal', 'State Police', 'Unknown'],\n",
       "      dtype=object)"
      ]
     },
     "execution_count": 9,
     "metadata": {},
     "output_type": "execute_result"
    }
   ],
   "source": [
    "agencies['agency_type'].unique()"
   ]
  },
  {
   "cell_type": "code",
   "execution_count": 10,
   "metadata": {},
   "outputs": [
    {
     "data": {
      "text/plain": [
       "array(['Opelika Police Department', 'Auburn Police Department',\n",
       "       \"Lee County Sheriff's Office\", ...,\n",
       "       'Thermopolis Police Department', 'Wyoming Highway Patrol',\n",
       "       'Wind River Agency'], dtype=object)"
      ]
     },
     "execution_count": 10,
     "metadata": {},
     "output_type": "execute_result"
    }
   ],
   "source": [
    "agencies['agency_name'].unique()"
   ]
  },
  {
   "cell_type": "markdown",
   "metadata": {},
   "source": [
    "Most of the data appears clean, except for missing values. We won’t need extensive data transformation.\n",
    "\n",
    "### Handling Missing Values\n",
    "\n",
    "There are two common approaches:\n",
    "\n",
    "1. **Delete rows with missing values**  \n",
    "   - Simple, but may reduce dataset size.\n",
    "   - Suitable if missing data is minimal or random.\n",
    "\n",
    "2. **Fill in missing values**  \n",
    "   - Apply appropriate logic based on the variable.\n",
    "   - Examples:\n",
    "     - Use mean/median for numerical columns like `latitude` or `longitude`.\n",
    "     - Use mode or \"Unknown\" for categorical columns like `county` or `agency_type`.\n"
   ]
  },
  {
   "cell_type": "code",
   "execution_count": 11,
   "metadata": {},
   "outputs": [
    {
     "name": "stdout",
     "output_type": "stream",
     "text": [
      "Number of rows with missing values: 5524\n",
      "Percentage of rows with missing values: 28.82%\n"
     ]
    }
   ],
   "source": [
    "total_rows = agencies.shape[0]\n",
    "missing_rows = agencies[agencies.isnull().any(axis=1)]\n",
    "num_missing_rows = missing_rows.shape[0]\n",
    "missing_percentage = (num_missing_rows / total_rows) * 100\n",
    "print(f\"Number of rows with missing values: {num_missing_rows}\")\n",
    "print(f\"Percentage of rows with missing values: {missing_percentage:.2f}%\")"
   ]
  },
  {
   "cell_type": "markdown",
   "metadata": {},
   "source": [
    "If we use approach 1, we will have to drop 29% of the data which is a huge number. Hence let us go with option 2."
   ]
  },
  {
   "cell_type": "markdown",
   "metadata": {},
   "source": [
    "## Data Cleaning"
   ]
  },
  {
   "cell_type": "markdown",
   "metadata": {},
   "source": [
    "Handle missing latitude/longitude values by imputing state averages."
   ]
  },
  {
   "cell_type": "code",
   "execution_count": 12,
   "metadata": {},
   "outputs": [],
   "source": [
    "#fill missing latitude/longitude with state averages\n",
    "agencies['latitude'] = agencies.groupby('state_abbr')['latitude'].transform(lambda x: x.fillna(x.mean()))\n",
    "agencies['longitude'] = agencies.groupby('state_abbr')['longitude'].transform(lambda x: x.fillna(x.mean()))\n",
    "\n",
    "#remove invalid latitude entries\n",
    "agencies = agencies[agencies['latitude'] > 0]"
   ]
  },
  {
   "cell_type": "code",
   "execution_count": 13,
   "metadata": {},
   "outputs": [
    {
     "name": "stdout",
     "output_type": "stream",
     "text": [
      "'agency_type' : 1675 | 8.74%\n",
      "'nibrs_start_date' : 4061 | 21.19%\n"
     ]
    }
   ],
   "source": [
    "count_null_vals(agencies)"
   ]
  },
  {
   "cell_type": "markdown",
   "metadata": {},
   "source": [
    "Classify agency types based on names (“Police” = City, “Sheriff” = County, others = Other)."
   ]
  },
  {
   "cell_type": "code",
   "execution_count": 14,
   "metadata": {},
   "outputs": [],
   "source": [
    "#classify missing agency types\n",
    "def classify_agency(name):\n",
    "    if pd.isnull(name):\n",
    "        return \"Other\"\n",
    "    if \"Sheriff\" in name:\n",
    "        return \"County\"\n",
    "    if \"Police\" in name:\n",
    "        return \"City\"\n",
    "    return \"Other\"\n",
    "\n",
    "agencies['agency_type'] = agencies.apply(\n",
    "    lambda row: row['agency_type'] if pd.notnull(row['agency_type']) else classify_agency(row['agency_name']), axis=1)"
   ]
  },
  {
   "cell_type": "code",
   "execution_count": 15,
   "metadata": {},
   "outputs": [
    {
     "name": "stdout",
     "output_type": "stream",
     "text": [
      "'nibrs_start_date' : 4061 | 21.19%\n"
     ]
    }
   ],
   "source": [
    "count_null_vals(agencies)"
   ]
  },
  {
   "cell_type": "markdown",
   "metadata": {},
   "source": [
    "Fill missing NIBRS start dates with median values."
   ]
  },
  {
   "cell_type": "code",
   "execution_count": 16,
   "metadata": {},
   "outputs": [],
   "source": [
    "# Fill missing nibrs_start_date with median\n",
    "agencies['nibrs_start_date'] = pd.to_datetime(agencies['nibrs_start_date'], errors='coerce')\n",
    "median_date = agencies['nibrs_start_date'].median()\n",
    "agencies['nibrs_start_date'] = agencies['nibrs_start_date'].fillna(median_date)"
   ]
  },
  {
   "cell_type": "code",
   "execution_count": 17,
   "metadata": {},
   "outputs": [
    {
     "name": "stdout",
     "output_type": "stream",
     "text": [
      "No Null values\n"
     ]
    }
   ],
   "source": [
    "count_null_vals(agencies)"
   ]
  },
  {
   "cell_type": "markdown",
   "metadata": {},
   "source": [
    "We have handled all the missing values."
   ]
  },
  {
   "cell_type": "markdown",
   "metadata": {},
   "source": [
    "## Exploratory Data Analysis (EDA)"
   ]
  },
  {
   "cell_type": "code",
   "execution_count": 18,
   "metadata": {},
   "outputs": [
    {
     "data": {
      "image/png": "[encoded data removed]",
      "text/plain": [
       "<Figure size 1500x700 with 1 Axes>"
      ]
     },
     "metadata": {},
     "output_type": "display_data"
    }
   ],
   "source": [
    "#distribution of agency types by state\n",
    "agency_counts = agencies.groupby(['state_abbr', 'agency_type']).size().unstack(fill_value=0)\n",
    "agency_counts.plot(kind='bar', stacked=True, figsize=(15, 7))\n",
    "plt.title('Distribution of Agency Types by State')\n",
    "plt.xlabel('State')\n",
    "plt.ylabel('Number of Agencies')\n",
    "plt.legend(title='Agency Type')\n",
    "plt.tight_layout()\n",
    "plt.show()"
   ]
  },
  {
   "cell_type": "markdown",
   "metadata": {},
   "source": [
    "Follwoing is what we can see in the Distribution of Agency Types by State chart:\n",
    "\n",
    "-   Most states have City agencies (like city police departments) as the biggest group.\n",
    "\n",
    "-   County agencies (like sheriff offices) are the second most common.\n",
    "\n",
    "-   There’s a smaller number labeled as Other, which could be special agencies or ones not clearly named."
   ]
  },
  {
   "cell_type": "code",
   "execution_count": null,
   "metadata": {},
   "outputs": [],
   "source": []
  }
 ],
 "metadata": {
  "kernelspec": {
   "display_name": "base",
   "language": "python",
   "name": "python3"
  },
  "language_info": {
   "codemirror_mode": {
    "name": "ipython",
    "version": 3
   },
   "file_extension": ".py",
   "mimetype": "text/x-python",
   "name": "python",
   "nbconvert_exporter": "python",
   "pygments_lexer": "ipython3",
   "version": "3.12.3"
  }
 },
 "nbformat": 4,
 "nbformat_minor": 2
}
